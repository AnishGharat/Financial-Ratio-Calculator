{
  "cells": [
    {
      "cell_type": "code",
      "execution_count": null,
      "metadata": {
        "id": "vJxMe6sGQ_Vb"
      },
      "outputs": [],
      "source": [
        "import numpy as np\n",
        "import pandas as pd\n",
        "from google.colab import files\n",
        "import matplotlib.pyplot as plt"
      ]
    },
    {
      "cell_type": "code",
      "execution_count": null,
      "metadata": {
        "colab": {
          "base_uri": "https://localhost:8080/",
          "height": 109
        },
        "id": "Y8thDHvBRKiP",
        "outputId": "6ed4b0cc-0924-4746-ee55-f08e0c7765d6"
      },
      "outputs": [],
      "source": [
        "uploaded=files.upload()"
      ]
    },
    {
      "cell_type": "code",
      "execution_count": null,
      "metadata": {
        "id": "6seDKcc7RORX"
      },
      "outputs": [],
      "source": [
        "bs=pd.read_excel('balancesheet.xlsx')\n",
        "incs=pd.read_excel('incomesheet.xlsx')"
      ]
    },
    {
      "cell_type": "code",
      "execution_count": null,
      "metadata": {
        "colab": {
          "base_uri": "https://localhost:8080/"
        },
        "id": "ffVhGGO06I8f",
        "outputId": "0c8ca6eb-8d44-4b58-b28a-e873e5a5309f"
      },
      "outputs": [],
      "source": [
        "#----------------------------------------2 year data code--------------------------------------------------------------------------------------------------------------\n",
        "#combine income sheet and balance sheet\n",
        "bs1=pd.read_excel('balancesheet.xlsx')\n",
        "incs1=pd.read_excel('incomesheet.xlsx')\n",
        "bs1.columns=['Item','YearA','YearB','null']\n",
        "incs1.columns=['Item','YearA','YearB','null']\n",
        "df = pd.concat([bs1, incs1], ignore_index=True, sort=False)\n",
        "\n",
        "# Define the financial ratios to calculate\n",
        "item = df['Item'].unique().tolist()\n",
        "ratios = {\n",
        "    'Current Ratio': ['Total Current Assets', 'Total Current Liabilities'],\n",
        "    'Cash Ratio': ['Cash','Total Current Liabilities'],\n",
        "    'Quick Ratio': ['Total Current Assets', 'Total Current Liabilities', 'Inventory'],\n",
        "    'Total Debt Ratio': ['Total Liabilities', 'Total Assets'],\n",
        "    'Debt-to-Equity Ratio': ['Long-Term Debt', 'Total Equity'],\n",
        "    'Equity Multiplier':['Total Assets','Total Equity'],\n",
        "    'Inventory Turnover':['Cost of Goods Sold','Inventory'],\n",
        "    'Receivable Turnover':['Revenue','Accounts Receivable'],\n",
        "    'Total Asset Turnover':['Revenue','Total Assets'],\n",
        "    'Gross Profit Margin': ['Gross Profit', 'Revenue'],\n",
        "    'EBITDA Margin':['EBITDA','Revenue'],\n",
        "    'EBIT Margin':['EBIT','Revenue'],\n",
        "    'Return on Assets':['Net Income','Total Assets'],\n",
        "    'Return on Equity':['Net Income','Total Equity'],\n",
        "    'Fixed Asset Turnover': ['Revenue','Property, Plant & Equipment'],\n",
        "    'Operating Profit Margin': ['Operating Income', 'Revenue'],\n",
        "    'Net Profit Margin': ['Net Income', 'Revenue'],\n",
        "    'Pre-Tax Profit Margin':['Pre-Tax Income','Revenue'],\n",
        "}\n",
        "\n",
        "# Calculate the values for each ratio in year22=A and year2020=B\n",
        "values_dict = {}\n",
        "for item in item:\n",
        "    values_dict[item] = {'yearA': df.loc[df['Item'] == item, 'YearA'].item(),\n",
        "                         'yearB': df.loc[df['Item'] == item, 'YearB'].item()}\n",
        "\n",
        "ratio_values = []\n",
        "for ratio, items in ratios.items():\n",
        "    a=[values_dict[item]['yearA'] for item in items]\n",
        "    b=[values_dict[item]['yearB'] for item in items]\n",
        "    item_values1,item_values2 = a,b\n",
        "    value_a = item_values1[0] / item_values1[1] if len(item_values1) == 2 else (item_values1[0] - item_values1[2]) / item_values1[1]\n",
        "    value_b = item_values2[0] / item_values2[1] if len(item_values2) == 2 else (item_values2[0] - item_values2[2]) / item_values2[1]\n",
        "    change=value_a-value_b\n",
        "    ratio_values.append({'Ratio': ratio, 'ValueA': value_a, 'ValueB': value_b,'Change': change})\n",
        "\n",
        "\n",
        "# Create a DataFrame with the results\n",
        "financial_ratios = pd.DataFrame(ratio_values)\n",
        "print(financial_ratios)\n"
      ]
    },
    {
      "cell_type": "code",
      "execution_count": null,
      "metadata": {
        "colab": {
          "base_uri": "https://localhost:8080/"
        },
        "id": "SPFOAcB5b7B2",
        "outputId": "6c578640-7ea0-48dc-93dc-d2f6dbfc0d2a"
      },
      "outputs": [],
      "source": [
        "#-------------------------------------------------MULTIPLE YEAR DATA-----------------------------------------------------------------------\n",
        "num_years = int(input(\"Enter the number of years: \"))\n",
        "year_columns = ['Year{}'.format(i) for i in range(1, num_years + 1)]\n",
        "bs.columns = ['Item'] + year_columns\n",
        "incs.columns = ['Item'] + year_columns\n",
        "df = pd.concat([bs, incs], ignore_index=True, sort=False)\n",
        "\n",
        "item = df['Item'].unique().tolist()\n",
        "ratios = {\n",
        "    'Current Ratio': ['Total Current Assets', 'Total Current Liabilities'],\n",
        "    'Cash Ratio': ['Cash', 'Total Current Liabilities'],\n",
        "    'Quick Ratio': ['Total Current Assets', 'Total Current Liabilities', 'Inventory'],\n",
        "    'Total Debt Ratio': ['Total Liabilities', 'Total Assets'],\n",
        "    'Debt-to-Equity Ratio': ['Long-Term Debt', 'Total Equity'],\n",
        "    'Equity Multiplier': ['Total Assets', 'Total Equity'],\n",
        "    'Inventory Turnover': ['Cost of Goods Sold', 'Inventory'],\n",
        "    'Receivable Turnover': ['Revenue', 'Accounts Receivable'],\n",
        "    'Total Asset Turnover': ['Revenue', 'Total Assets'],\n",
        "    'Gross Profit Margin': ['Gross Profit', 'Revenue'],\n",
        "    'EBITDA Margin': ['EBITDA', 'Revenue'],\n",
        "    'EBIT Margin': ['EBIT', 'Revenue'],\n",
        "    'Return on Assets': ['Net Income', 'Total Assets'],\n",
        "    'Return on Equity': ['Net Income', 'Total Equity'],\n",
        "    'Fixed Asset Turnover': ['Revenue', 'Property, Plant & Equipment'],\n",
        "    'Operating Profit Margin': ['Operating Income', 'Revenue'],\n",
        "    'Net Profit Margin': ['Net Income', 'Revenue'],\n",
        "    'Pre-Tax Profit Margin': ['Pre-Tax Income', 'Revenue'],\n",
        "}\n",
        "\n",
        "values_dict = {}\n",
        "for item in item:\n",
        "    values_dict[item] = {}\n",
        "    for year in range(1, num_years + 1):\n",
        "        column_name = year_columns[year - 1]\n",
        "        values_dict[item][column_name] = df.loc[df['Item'] == item, column_name].item()\n",
        "\n",
        "\n",
        "ratio_values = []\n",
        "for ratio, items in ratios.items():\n",
        "    ratio_data = {'Ratio': ratio}\n",
        "    for year in range(1, num_years + 1):\n",
        "        column_name = year_columns[year - 1]\n",
        "        item_values = [values_dict[item][column_name] for item in items]\n",
        "        ratio_data[column_name] = item_values[0] / item_values[1] if len(item_values) == 2 else (item_values[0] - item_values[2]) / item_values[1]\n",
        "    ratio_values.append(ratio_data)\n",
        "\n",
        "\n",
        "financial_ratios = pd.DataFrame(ratio_values)\n",
        "print(financial_ratios)"
      ]
    },
    {
      "cell_type": "code",
      "execution_count": null,
      "metadata": {
        "colab": {
          "base_uri": "https://localhost:8080/",
          "height": 1000
        },
        "id": "g86mgbkYGMVn",
        "outputId": "438c3369-281b-4c12-936a-a9697bdf6ba7"
      },
      "outputs": [],
      "source": [
        "#-----------making line graph for each ratio------------------------\n",
        "for ratio_data in ratio_values:\n",
        "    ratio_name = ratio_data['Ratio']\n",
        "    ratio_data.pop('Ratio')  # Remove the 'Ratio' key from the dictionary\n",
        "\n",
        "    ratio_df = pd.DataFrame([ratio_data]).transpose()\n",
        "    ratio_df.columns = ['Value']\n",
        "\n",
        "    ratio_df.reset_index(inplace=True)\n",
        "    ratio_df['index'] = pd.to_numeric(ratio_df['index'].str.replace('Year', ''))  \n",
        "\n",
        "    plt.figure()\n",
        "    plt.plot(ratio_df['index'], ratio_df['Value'], marker='o')\n",
        "    plt.xlabel('Year')\n",
        "    plt.ylabel('Value')\n",
        "    plt.title(ratio_name)\n",
        "\n",
        "    plt.show()"
      ]
    },
    {
      "cell_type": "code",
      "execution_count": null,
      "metadata": {
        "id": "aBZf2cQhY3gc"
      },
      "outputs": [],
      "source": []
    }
  ],
  "metadata": {
    "colab": {
      "provenance": []
    },
    "kernelspec": {
      "display_name": "Python 3",
      "name": "python3"
    },
    "language_info": {
      "name": "python"
    }
  },
  "nbformat": 4,
  "nbformat_minor": 0
}
